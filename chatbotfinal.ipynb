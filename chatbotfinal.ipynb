{
 "cells": [
  {
   "cell_type": "code",
   "execution_count": 1,
   "metadata": {},
   "outputs": [
    {
     "name": "stdout",
     "output_type": "stream",
     "text": [
      "listening...\n"
     ]
    }
   ],
   "source": [
    "import speech_recognition as sr\n",
    "import pyttsx3\n",
    "import pywhatkit\n",
    "import datetime\n",
    "import wikipedia\n",
    "import pyjokes\n",
    "import keyboard  \n",
    "\n",
    "listener = sr.Recognizer()\n",
    "engine = pyttsx3.init()\n",
    "voices = engine.getProperty('voices')\n",
    "engine.setProperty('voice', voices[1].id)\n",
    "\n",
    "\n",
    "def talk(text):\n",
    "    engine.say(text)\n",
    "    engine.runAndWait()\n",
    "\n",
    "def take_command():\n",
    "    command = \"\"  \n",
    "    try:\n",
    "        with sr.Microphone() as source:\n",
    "            print('listening...')\n",
    "            voice = listener.listen(source)\n",
    "            command = listener.recognize_google(voice)\n",
    "            command = command.lower()\n",
    "            if 'pikachu' in command:\n",
    "                command = command.replace('pikachu', '')\n",
    "                print(command)\n",
    "                return command\n",
    "    except sr.UnknownValueError:\n",
    "        print(\"Sorry, I couldn't understand your command.\")\n",
    "    except sr.RequestError:\n",
    "        print(\"Could not request results; check your internet connection\")\n",
    "    except Exception as e:\n",
    "        print(\"An error occurred:\", e)\n",
    "    return command \n",
    "\n",
    "def run_pikachu():\n",
    "    while True:\n",
    "        command = take_command()\n",
    "        print(command)\n",
    "        if command:\n",
    "            if 'play' in command:\n",
    "                song = command.replace('play', '')\n",
    "                talk('playing ' + song)\n",
    "                pywhatkit.playonyt(song)\n",
    "            elif 'time' in command:\n",
    "                time = datetime.datetime.now().strftime('%I:%M %p')\n",
    "                talk('Current time is ' + time)\n",
    "            elif 'who the heck is' in command:\n",
    "                person = command.replace('who the heck is', '')\n",
    "                info = wikipedia.summary(person, 1)\n",
    "                print(info)\n",
    "                talk(info)\n",
    "            elif 'date' in command:\n",
    "                talk('sorry, I have a headache')\n",
    "            elif 'are you single' in command:\n",
    "                talk('I am in a relationship with wifi')\n",
    "            elif 'climate' in command:\n",
    "                talk('I am not human to check the climate please check the climate yourself')\n",
    "            elif'thank you' in command:\n",
    "                 talk('welcome,its my pleasure')   \n",
    "            elif 'hello' in command:\n",
    "                 talk('hi!,how are you')\n",
    "                 talk('im fine') \n",
    "            elif 'joke' in command:\n",
    "                talk(pyjokes.get_joke())\n",
    "            else:\n",
    "                talk('Please say the command again.')\n",
    "            break\n",
    "\n",
    "run_pikachu()\n"
   ]
  }
 ],
 "metadata": {
  "kernelspec": {
   "display_name": "Python 3",
   "language": "python",
   "name": "python3"
  },
  "language_info": {
   "codemirror_mode": {
    "name": "ipython",
    "version": 3
   },
   "file_extension": ".py",
   "mimetype": "text/x-python",
   "name": "python",
   "nbconvert_exporter": "python",
   "pygments_lexer": "ipython3",
   "version": "3.12.2"
  }
 },
 "nbformat": 4,
 "nbformat_minor": 2
}
